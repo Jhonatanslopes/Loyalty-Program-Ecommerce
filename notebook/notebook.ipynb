{
 "cells": [
  {
   "cell_type": "markdown",
   "id": "9212a29a",
   "metadata": {},
   "source": [
    "# CONTEXTO DO PROBLEMA"
   ]
  },
  {
   "cell_type": "markdown",
   "id": "dd882c9d",
   "metadata": {},
   "source": [
    "A empresa **All in One Place** é uma empresa Outlet Multimarcas, ou seja, ela comercializa produtos de segunda linha de várias marcas a um preço menor, através de um e-commerce.\n",
    "\n",
    "Em pouco mais de 1 anos de operação, o time de marketing percebeu que alguns clientes da sua base, compram produtos mais caros, com alta frequência e acabam contribuindo com uma parcela significativa do faturamento da empresa.\n",
    "\n",
    "Baseado nessa percepção, o time de marketing vai lançar um programa de fidelidade para os melhores clientes da base, chamado Insiders. Mas o time não tem um conhecimento avançado em análise de dados para eleger os participantes do programa.\n",
    "\n",
    "Por esse motivo, o time de marketing requisitou ao time de dados uma seleção de clientes elegíveis ao programa, usando técnicas avançadas de manipulação de dados."
   ]
  },
  {
   "cell_type": "markdown",
   "id": "86f81579",
   "metadata": {},
   "source": [
    "# O PROBLEMA"
   ]
  },
  {
   "cell_type": "markdown",
   "id": "984876d0",
   "metadata": {},
   "source": [
    "Você faz parte do time de cientistas de dados da empresa All In One Place, que precisa determinar quem são os clientes elegíveis para participar do Insiders. Em posse dessa lista, o time de Marketing fará uma sequência de ações personalizadas e exclusivas ao grupo, de modo a aumentar o faturamento e a frequência de compra.\n",
    "\n",
    "Como resultado para esse projeto, é esperado que você entregue uma lista de pessoas elegíveis a participar do programa Insiders, junto com um relatório respondendo às seguintes perguntas:\n",
    "\n",
    "1. Quem são as pessoas elegíveis para participar do programa de Insiders ?\n",
    "2. Quantos clientes farão parte do grupo?\n",
    "3. Quais as principais características desses clientes ?\n",
    "4. Qual a porcentagem de contribuição do faturamento, vinda do Insiders ?\n",
    "5. Qual a expectativa de faturamento desse grupo para os próximos meses ?\n",
    "6. Quais as condições para uma pessoa ser elegível ao Insiders ?\n",
    "7. Quais as condições para uma pessoa ser removida do Insiders ?\n",
    "8. Qual a garantia que o programa Insiders é melhor que o restante da base ?\n",
    "9. Quais ações o time de marketing pode realizar para aumentar o faturamento?"
   ]
  },
  {
   "cell_type": "markdown",
   "id": "3f02576a",
   "metadata": {},
   "source": [
    "# ENTENDIMENTO DO PROBLEMA"
   ]
  },
  {
   "cell_type": "markdown",
   "id": "02fcd6c9",
   "metadata": {},
   "source": [
    "**Motivação:** \n",
    "- Identificar os clientes elegíveis para participar do programa de finalidade (Insiders).\n",
    "\n",
    "**Causa Raiz do Problema:** \n",
    "- Aumentar o faturamento da empresa e a frequência de compra dos clientes.\n",
    "\n",
    "**Tipo de Problema:** \n",
    "- Identificar perfil de clientes que trazem mais retorno financeiro.\n",
    "\n",
    "**Potênciais Métodos:** \n",
    "- Clusterização.\n",
    "\n",
    "**Entrega da Solução:** \n",
    "- WebApp."
   ]
  },
  {
   "cell_type": "markdown",
   "id": "f954264c",
   "metadata": {},
   "source": [
    "# PLANEJAMENTO DA SOLUÇÃO"
   ]
  },
  {
   "cell_type": "markdown",
   "id": "befad78b",
   "metadata": {},
   "source": [
    "1. Carregar, explorar os dados usando ferramentas e testes Estatísticos com o objetivo de encontrar inconsistências dos dados e tratar possíveis dados faltantes.\n",
    "\n",
    "2. Levantar Hipóteses sobre as características de um cliente Insider. Validar ou refutar essas hipóteses através dos dados.\n",
    "\n",
    "3. Preparar os Dados para que os Algoritmos Estatísticos ou de Machine Learning sejam capazes de aprender a tarefa.\n",
    "\n",
    "4. Escrever vários algoritmos de Agrupamento ou clusterização.\n",
    "\n",
    "5. Contabilizar a Performance do Modelo de Machine Learning e transformar em Performance de Negócio.\n",
    "\n",
    "6. Desenvolver uma API que retorne um “Score de Cluster” para cada cliente, indicando à qual cluster ele pertence.\n",
    "\n",
    "7. Criar um README sobre como interpretar e usar a sua solução.\n",
    "\n",
    "8. Escrever um Relatório, respondendo às perguntas de negócio."
   ]
  },
  {
   "cell_type": "markdown",
   "id": "a3f46f4b",
   "metadata": {},
   "source": [
    "# 0.0 IMPORTS"
   ]
  },
  {
   "cell_type": "code",
   "execution_count": 48,
   "id": "815b18c7",
   "metadata": {},
   "outputs": [],
   "source": [
    "# Manipualtion\n",
    "import pandas as pd\n",
    "import numpy as np\n",
    "import inflection\n",
    "\n",
    "# Visualization\n",
    "import seaborn as sns"
   ]
  },
  {
   "cell_type": "markdown",
   "id": "946b60c3",
   "metadata": {},
   "source": [
    "## 0.1 Funções Auxiliares"
   ]
  },
  {
   "cell_type": "markdown",
   "id": "953901fa",
   "metadata": {},
   "source": [
    "## 0.2 Carregamento de Dados"
   ]
  },
  {
   "cell_type": "code",
   "execution_count": 49,
   "id": "7d75ef80",
   "metadata": {},
   "outputs": [
    {
     "data": {
      "text/html": [
       "<div>\n",
       "<style scoped>\n",
       "    .dataframe tbody tr th:only-of-type {\n",
       "        vertical-align: middle;\n",
       "    }\n",
       "\n",
       "    .dataframe tbody tr th {\n",
       "        vertical-align: top;\n",
       "    }\n",
       "\n",
       "    .dataframe thead th {\n",
       "        text-align: right;\n",
       "    }\n",
       "</style>\n",
       "<table border=\"1\" class=\"dataframe\">\n",
       "  <thead>\n",
       "    <tr style=\"text-align: right;\">\n",
       "      <th></th>\n",
       "      <th>InvoiceNo</th>\n",
       "      <th>StockCode</th>\n",
       "      <th>Description</th>\n",
       "      <th>Quantity</th>\n",
       "      <th>InvoiceDate</th>\n",
       "      <th>UnitPrice</th>\n",
       "      <th>CustomerID</th>\n",
       "      <th>Country</th>\n",
       "    </tr>\n",
       "  </thead>\n",
       "  <tbody>\n",
       "    <tr>\n",
       "      <th>0</th>\n",
       "      <td>536365</td>\n",
       "      <td>85123A</td>\n",
       "      <td>WHITE HANGING HEART T-LIGHT HOLDER</td>\n",
       "      <td>6</td>\n",
       "      <td>29-Nov-16</td>\n",
       "      <td>2.55</td>\n",
       "      <td>17850.0</td>\n",
       "      <td>United Kingdom</td>\n",
       "    </tr>\n",
       "    <tr>\n",
       "      <th>1</th>\n",
       "      <td>536365</td>\n",
       "      <td>71053</td>\n",
       "      <td>WHITE METAL LANTERN</td>\n",
       "      <td>6</td>\n",
       "      <td>29-Nov-16</td>\n",
       "      <td>3.39</td>\n",
       "      <td>17850.0</td>\n",
       "      <td>United Kingdom</td>\n",
       "    </tr>\n",
       "    <tr>\n",
       "      <th>2</th>\n",
       "      <td>536365</td>\n",
       "      <td>84406B</td>\n",
       "      <td>CREAM CUPID HEARTS COAT HANGER</td>\n",
       "      <td>8</td>\n",
       "      <td>29-Nov-16</td>\n",
       "      <td>2.75</td>\n",
       "      <td>17850.0</td>\n",
       "      <td>United Kingdom</td>\n",
       "    </tr>\n",
       "    <tr>\n",
       "      <th>3</th>\n",
       "      <td>536365</td>\n",
       "      <td>84029G</td>\n",
       "      <td>KNITTED UNION FLAG HOT WATER BOTTLE</td>\n",
       "      <td>6</td>\n",
       "      <td>29-Nov-16</td>\n",
       "      <td>3.39</td>\n",
       "      <td>17850.0</td>\n",
       "      <td>United Kingdom</td>\n",
       "    </tr>\n",
       "    <tr>\n",
       "      <th>4</th>\n",
       "      <td>536365</td>\n",
       "      <td>84029E</td>\n",
       "      <td>RED WOOLLY HOTTIE WHITE HEART.</td>\n",
       "      <td>6</td>\n",
       "      <td>29-Nov-16</td>\n",
       "      <td>3.39</td>\n",
       "      <td>17850.0</td>\n",
       "      <td>United Kingdom</td>\n",
       "    </tr>\n",
       "  </tbody>\n",
       "</table>\n",
       "</div>"
      ],
      "text/plain": [
       "  InvoiceNo StockCode                          Description  Quantity  \\\n",
       "0    536365    85123A   WHITE HANGING HEART T-LIGHT HOLDER         6   \n",
       "1    536365     71053                  WHITE METAL LANTERN         6   \n",
       "2    536365    84406B       CREAM CUPID HEARTS COAT HANGER         8   \n",
       "3    536365    84029G  KNITTED UNION FLAG HOT WATER BOTTLE         6   \n",
       "4    536365    84029E       RED WOOLLY HOTTIE WHITE HEART.         6   \n",
       "\n",
       "  InvoiceDate  UnitPrice  CustomerID         Country  \n",
       "0   29-Nov-16       2.55     17850.0  United Kingdom  \n",
       "1   29-Nov-16       3.39     17850.0  United Kingdom  \n",
       "2   29-Nov-16       2.75     17850.0  United Kingdom  \n",
       "3   29-Nov-16       3.39     17850.0  United Kingdom  \n",
       "4   29-Nov-16       3.39     17850.0  United Kingdom  "
      ]
     },
     "execution_count": 49,
     "metadata": {},
     "output_type": "execute_result"
    }
   ],
   "source": [
    "path = 'C:/Users/Jhonatans/projects/ML/Clusterization/Loyalty-Program-Ecommerce/' # Path project\n",
    "df = pd.read_csv(path + 'data/Ecommerce.csv', encoding='cp1252') # Load data\n",
    "\n",
    "df.drop(columns=['Unnamed: 8'], inplace=True) # Drop column Unnamed: 8\n",
    "df.head() "
   ]
  },
  {
   "cell_type": "markdown",
   "id": "e2b2c746",
   "metadata": {},
   "source": [
    "# 1.0 DESCRIÇÃO DE DADOS"
   ]
  },
  {
   "cell_type": "markdown",
   "id": "d5ecdddc",
   "metadata": {},
   "source": [
    "## 1.1 Dimensão de Dados"
   ]
  },
  {
   "cell_type": "code",
   "execution_count": 50,
   "id": "9e7d6bbc",
   "metadata": {},
   "outputs": [
    {
     "name": "stdout",
     "output_type": "stream",
     "text": [
      "Nº Rows: 541909\n",
      "Nº Columns: 8\n"
     ]
    }
   ],
   "source": [
    "print('Nº Rows: {}'.format(df.shape[0]))\n",
    "print('Nº Columns: {}'.format(df.shape[1]))"
   ]
  },
  {
   "cell_type": "markdown",
   "id": "4efa9f95",
   "metadata": {},
   "source": [
    "## 1.2 Renomeação de Colunas"
   ]
  },
  {
   "cell_type": "code",
   "execution_count": 51,
   "id": "64b87e9f",
   "metadata": {},
   "outputs": [
    {
     "data": {
      "text/plain": [
       "Index(['invoice_no', 'stock_code', 'description', 'quantity', 'invoice_date',\n",
       "       'unit_price', 'customer_id', 'country'],\n",
       "      dtype='object')"
      ]
     },
     "execution_count": 51,
     "metadata": {},
     "output_type": "execute_result"
    }
   ],
   "source": [
    "# Text to snakecase\n",
    "snakcase = lambda x: inflection.underscore(x)\n",
    "\n",
    "# New columns with snakecase\n",
    "df.columns = list(map(snakecase, df.columns))\n",
    "df.columns"
   ]
  },
  {
   "cell_type": "markdown",
   "id": "fc7f0287",
   "metadata": {},
   "source": [
    "## 1.3 Tipo de Dados"
   ]
  },
  {
   "cell_type": "code",
   "execution_count": 52,
   "id": "5dc37505",
   "metadata": {},
   "outputs": [
    {
     "data": {
      "text/plain": [
       "invoice_no       object\n",
       "stock_code       object\n",
       "description      object\n",
       "quantity          int64\n",
       "invoice_date     object\n",
       "unit_price      float64\n",
       "customer_id     float64\n",
       "country          object\n",
       "dtype: object"
      ]
     },
     "execution_count": 52,
     "metadata": {},
     "output_type": "execute_result"
    }
   ],
   "source": [
    "df.dtypes"
   ]
  },
  {
   "cell_type": "markdown",
   "id": "d3d1b5cb",
   "metadata": {},
   "source": [
    "## 1.4 Verificação de Dados Ausentes"
   ]
  },
  {
   "cell_type": "code",
   "execution_count": 53,
   "id": "df3552c8",
   "metadata": {},
   "outputs": [
    {
     "data": {
      "text/plain": [
       "invoice_no           0\n",
       "stock_code           0\n",
       "description       1454\n",
       "quantity             0\n",
       "invoice_date         0\n",
       "unit_price           0\n",
       "customer_id     135080\n",
       "country              0\n",
       "dtype: int64"
      ]
     },
     "execution_count": 53,
     "metadata": {},
     "output_type": "execute_result"
    }
   ],
   "source": [
    "df.isna().sum()"
   ]
  },
  {
   "cell_type": "markdown",
   "id": "61bf02c1",
   "metadata": {},
   "source": [
    "## 1.5 Tratamento de Dados Ausentes"
   ]
  },
  {
   "cell_type": "code",
   "execution_count": 54,
   "id": "42968c26",
   "metadata": {},
   "outputs": [
    {
     "name": "stdout",
     "output_type": "stream",
     "text": [
      "invoice_no      0\n",
      "stock_code      0\n",
      "description     0\n",
      "quantity        0\n",
      "invoice_date    0\n",
      "unit_price      0\n",
      "customer_id     0\n",
      "country         0\n",
      "dtype: int64 \n",
      "\n",
      "Removed data: 0.25%\n",
      "Nº Rows final: 406829\n"
     ]
    }
   ],
   "source": [
    "# Remove NaN\n",
    "df1 = df.dropna().copy()\n",
    "\n",
    "print(df1.isna().sum(), '\\n')\n",
    "print('Removed data: {:.2f}%'.format(1-(df1.shape[0] / df.shape[0])))\n",
    "print('Nº Rows final: {}'.format(df1.shape[0]))"
   ]
  },
  {
   "cell_type": "markdown",
   "id": "74022e61",
   "metadata": {},
   "source": [
    "## 1.6 Mudança do Tipo de Dados"
   ]
  },
  {
   "cell_type": "code",
   "execution_count": 68,
   "id": "c0c3c87e",
   "metadata": {},
   "outputs": [],
   "source": [
    "# invoice_date - str to datetime\n",
    "df1['invoice_date'] = pd.to_datetime(df1['invoice_date'], format='%d-%b-%y')\n",
    "\n",
    "# customer id\n",
    "df1['customer_id'] = df1['customer_id'].astype('int')"
   ]
  },
  {
   "cell_type": "markdown",
   "id": "e3e8e119",
   "metadata": {},
   "source": [
    "## 1.7 Estatística Descritiva"
   ]
  },
  {
   "cell_type": "markdown",
   "id": "dbf4d073",
   "metadata": {},
   "source": [
    "### 1.7.1 Atributos Numéricos"
   ]
  },
  {
   "cell_type": "markdown",
   "id": "4daf3e40",
   "metadata": {},
   "source": [
    "### 1.7.2 Atributos Categóricos"
   ]
  },
  {
   "cell_type": "markdown",
   "id": "2c0093b6",
   "metadata": {},
   "source": [
    "# 2.0 FEATURE ENGINEERING"
   ]
  },
  {
   "cell_type": "markdown",
   "id": "c5afbf04",
   "metadata": {},
   "source": [
    "## 2.1 Criação de Feature"
   ]
  },
  {
   "cell_type": "code",
   "execution_count": 75,
   "id": "38f678da",
   "metadata": {},
   "outputs": [],
   "source": [
    "# Copy dataframe to section 2\n",
    "df2 = df1.copy()\n",
    "\n",
    "# data reference\n",
    "df_ref = df2['customer_id'].drop_duplicates()\n",
    "\n",
    "# Gross Revenue (Faturamento) quantity * price\n",
    "df2['gross_revenue'] = df2['quantity'] * df2['unit_price']\n",
    "\n",
    "# Monetary\n",
    "df_monetary = df2[['customer_id', 'gross_revenue']].groupby('customer_id').sum().reset_index()\n",
    "df_ref = pd.merge(df_ref, df_monetary, on='customer_id', how='left')\n",
    "\n",
    "# Recency - Last day purchase\n",
    "df_recency = df2[['customer_id', 'invoice_date']].groupby('customer_id').max().reset_index()\n",
    "df_recency['recency_days'] = (df2['invoice_date'].max() - df_recency['invoice_date']).dt.days\n",
    "df_recency = df_recency[['customer_id', 'recency_days']].copy()\n",
    "df_ref = pd.merge(df_ref, df_recency, on='customer_id', how='left')\n",
    "\n",
    "# Frequency\n",
    "df_freq = df2[['customer_id', 'invoice_no']].drop_duplicates().groupby('customer_id').count().reset_index()\n",
    "df_ref = pd.merge(df_ref, df_freq, on='customer_id', how='left')"
   ]
  },
  {
   "cell_type": "markdown",
   "id": "1fc4bb53",
   "metadata": {},
   "source": [
    "# 3.0 FILTRAGEM DE DADOS"
   ]
  },
  {
   "cell_type": "markdown",
   "id": "07563e16",
   "metadata": {},
   "source": [
    "# 4.0 EDA"
   ]
  },
  {
   "cell_type": "markdown",
   "id": "3be98de3",
   "metadata": {},
   "source": [
    "# 5.0 PREPARAÇÃO DE DADOS"
   ]
  },
  {
   "cell_type": "markdown",
   "id": "84c10497",
   "metadata": {},
   "source": [
    "# 6.0 SELEÇÃO DE FEATURE"
   ]
  },
  {
   "cell_type": "markdown",
   "id": "cb738bcc",
   "metadata": {},
   "source": [
    "# 7.0 AJUSTE DE HIPERPARAMETROS"
   ]
  },
  {
   "cell_type": "markdown",
   "id": "da8be4ea",
   "metadata": {},
   "source": [
    "# 8.0 TREINAMENTO DO MODELO"
   ]
  },
  {
   "cell_type": "markdown",
   "id": "a23b0f85",
   "metadata": {},
   "source": [
    "# 9.0 ANÁLISE DE CLUSTER"
   ]
  },
  {
   "cell_type": "markdown",
   "id": "604aa17d",
   "metadata": {},
   "source": [
    "# 10.0 DEPLOY MODELO"
   ]
  }
 ],
 "metadata": {
  "kernelspec": {
   "display_name": "Python 3 (ipykernel)",
   "language": "python",
   "name": "python3"
  },
  "language_info": {
   "codemirror_mode": {
    "name": "ipython",
    "version": 3
   },
   "file_extension": ".py",
   "mimetype": "text/x-python",
   "name": "python",
   "nbconvert_exporter": "python",
   "pygments_lexer": "ipython3",
   "version": "3.9.6"
  }
 },
 "nbformat": 4,
 "nbformat_minor": 5
}
