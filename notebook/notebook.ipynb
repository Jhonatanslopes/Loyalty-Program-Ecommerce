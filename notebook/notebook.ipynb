{
 "cells": [
  {
   "cell_type": "markdown",
   "id": "9212a29a",
   "metadata": {},
   "source": [
    "# CONTEXTO DO PROBLEMA"
   ]
  },
  {
   "cell_type": "markdown",
   "id": "dd882c9d",
   "metadata": {},
   "source": [
    "A empresa **All in One Place** é uma empresa Outlet Multimarcas, ou seja, ela comercializa produtos de segunda linha de várias marcas a um preço menor, através de um e-commerce.\n",
    "\n",
    "Em pouco mais de 1 anos de operação, o time de marketing percebeu que alguns clientes da sua base, compram produtos mais caros, com alta frequência e acabam contribuindo com uma parcela significativa do faturamento da empresa.\n",
    "\n",
    "Baseado nessa percepção, o time de marketing vai lançar um programa de fidelidade para os melhores clientes da base, chamado Insiders. Mas o time não tem um conhecimento avançado em análise de dados para eleger os participantes do programa.\n",
    "\n",
    "Por esse motivo, o time de marketing requisitou ao time de dados uma seleção de clientes elegíveis ao programa, usando técnicas avançadas de manipulação de dados."
   ]
  },
  {
   "cell_type": "markdown",
   "id": "86f81579",
   "metadata": {},
   "source": [
    "# O PROBLEMA"
   ]
  },
  {
   "cell_type": "markdown",
   "id": "984876d0",
   "metadata": {},
   "source": [
    "Você faz parte do time de cientistas de dados da empresa All In One Place, que precisa determinar quem são os clientes elegíveis para participar do Insiders. Em posse dessa lista, o time de Marketing fará uma sequência de ações personalizadas e exclusivas ao grupo, de modo a aumentar o faturamento e a frequência de compra.\n",
    "\n",
    "Como resultado para esse projeto, é esperado que você entregue uma lista de pessoas elegíveis a participar do programa Insiders, junto com um relatório respondendo às seguintes perguntas:\n",
    "\n",
    "1. Quem são as pessoas elegíveis para participar do programa de Insiders ?\n",
    "2. Quantos clientes farão parte do grupo?\n",
    "3. Quais as principais características desses clientes ?\n",
    "4. Qual a porcentagem de contribuição do faturamento, vinda do Insiders ?\n",
    "5. Qual a expectativa de faturamento desse grupo para os próximos meses ?\n",
    "6. Quais as condições para uma pessoa ser elegível ao Insiders ?\n",
    "7. Quais as condições para uma pessoa ser removida do Insiders ?\n",
    "8. Qual a garantia que o programa Insiders é melhor que o restante da base ?\n",
    "9. Quais ações o time de marketing pode realizar para aumentar o faturamento?"
   ]
  },
  {
   "cell_type": "markdown",
   "id": "3f02576a",
   "metadata": {},
   "source": [
    "# ENTENDIMENTO DO PROBLEMA"
   ]
  },
  {
   "cell_type": "markdown",
   "id": "02fcd6c9",
   "metadata": {},
   "source": [
    "**Motivação:**\n",
    "\n",
    "**Causa Raiz do Problema:**\n",
    "\n",
    "**Tipo de Problema:**\n",
    "\n",
    "**Potênciais Métodos:**\n",
    "\n",
    "**Dados para Resolver o Problema:**\n",
    "\n",
    "**Entrega da Solução:**"
   ]
  },
  {
   "cell_type": "markdown",
   "id": "f954264c",
   "metadata": {},
   "source": [
    "# PLANEJAMENTO DA SOLUÇÃO"
   ]
  }
 ],
 "metadata": {
  "kernelspec": {
   "display_name": "Python 3 (ipykernel)",
   "language": "python",
   "name": "python3"
  },
  "language_info": {
   "codemirror_mode": {
    "name": "ipython",
    "version": 3
   },
   "file_extension": ".py",
   "mimetype": "text/x-python",
   "name": "python",
   "nbconvert_exporter": "python",
   "pygments_lexer": "ipython3",
   "version": "3.9.6"
  }
 },
 "nbformat": 4,
 "nbformat_minor": 5
}
